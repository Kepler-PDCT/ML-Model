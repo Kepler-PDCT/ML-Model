{
 "cells": [
  {
   "cell_type": "code",
   "execution_count": 5,
   "metadata": {},
   "outputs": [],
   "source": [
    "import os\n",
    "\n",
    "import torch\n",
    "import torch.nn as nn\n",
    "from torch.nn import functional as F\n",
    "\n",
    "from torch.utils.data import DataLoader\n",
    "from torchvision.datasets import ImageFolder\n",
    "from torchvision import transforms\n",
    "from torchvision.models import resnet18\n",
    "\n",
    "import pytorch_lightning as pl"
   ]
  },
  {
   "cell_type": "code",
   "execution_count": 11,
   "metadata": {},
   "outputs": [],
   "source": [
    "class Model(pl.LightningModule):\n",
    "    def __init__(self):\n",
    "        super(Model, self).__init__()\n",
    "        # not the best model...\n",
    "        self.model = resnet18(pretrained=True)\n",
    "\n",
    "    def forward(self, x):\n",
    "        # called with self(x)\n",
    "        return self.model(x)\n",
    "\n",
    "    def training_step(self, batch, batch_nb):\n",
    "        # REQUIRED\n",
    "        x, y = batch\n",
    "        y_hat = self(x)\n",
    "        loss = F.cross_entropy(y_hat, y)\n",
    "        tensorboard_logs = {'train_loss': loss}\n",
    "        return {'loss': loss, 'log': tensorboard_logs}\n",
    "\n",
    "    def test_step(self, batch, batch_nb):\n",
    "        # OPTIONAL\n",
    "        x, y = batch\n",
    "        y_hat = self(x)\n",
    "        return {'test_loss': F.cross_entropy(y_hat, y)}\n",
    "\n",
    "    def test_epoch_end(self, outputs):\n",
    "        # OPTIONAL\n",
    "        avg_loss = torch.stack([x['test_loss'] for x in outputs]).mean()\n",
    "        logs = {'test_loss': avg_loss}\n",
    "        return {'avg_test_loss': avg_loss, 'log': logs, 'progress_bar': logs}\n",
    "\n",
    "    def configure_optimizers(self):\n",
    "        # REQUIRED\n",
    "        # can return multiple optimizers and learning_rate schedulers\n",
    "        # (LBFGS it is automatically supported, no need for closure function)\n",
    "        return torch.optim.AdamW(self.parameters(), lr=0.01)\n",
    "\n",
    "    def train_dataloader(self):\n",
    "        t = transforms.Compose([\n",
    "            transforms.Pad(224),\n",
    "            transforms.RandomSizedCrop(224),\n",
    "            transforms.RandomHorizontalFlip(),\n",
    "            transforms.ToTensor(),\n",
    "            transforms.Normalize(mean=[0.485, 0.456, 0.406],\n",
    "                                 std=[0.229, 0.224, 0.225]),\n",
    "        ])\n",
    "        return DataLoader(ImageFolder(\"./dataset/train\", transform=t), batch_size = 64, shuffle=True, drop_last=True, pin_memory=True)\n",
    "\n",
    "    def test_dataloader(self):\n",
    "        t = transforms.Compose([\n",
    "                transforms.Pad(224),\n",
    "                transforms.RandomSizedCrop(224),\n",
    "                transforms.ToTensor(),\n",
    "                transforms.Normalize(mean=[0.485, 0.456, 0.406],\n",
    "                                     std=[0.229, 0.224, 0.225]),\n",
    "        ])\n",
    "        return DataLoader(ImageFolder(\"./dataset/test\", transform=t), batch_size = 128, drop_last=True, pin_memory=True)"
   ]
  },
  {
   "cell_type": "code",
   "execution_count": 12,
   "metadata": {},
   "outputs": [
    {
     "name": "stderr",
     "output_type": "stream",
     "text": [
      "INFO:lightning:GPU available: True, used: True\n",
      "INFO:lightning:VISIBLE GPUS: 0\n",
      "INFO:lightning:\n",
      "   | Name                        | Type              | Params\n",
      "--------------------------------------------------------------\n",
      "0  | model                       | ResNet            | 11 M  \n",
      "1  | model.conv1                 | Conv2d            | 9 K   \n",
      "2  | model.bn1                   | BatchNorm2d       | 128   \n",
      "3  | model.relu                  | ReLU              | 0     \n",
      "4  | model.maxpool               | MaxPool2d         | 0     \n",
      "5  | model.layer1                | Sequential        | 147 K \n",
      "6  | model.layer1.0              | BasicBlock        | 73 K  \n",
      "7  | model.layer1.0.conv1        | Conv2d            | 36 K  \n",
      "8  | model.layer1.0.bn1          | BatchNorm2d       | 128   \n",
      "9  | model.layer1.0.relu         | ReLU              | 0     \n",
      "10 | model.layer1.0.conv2        | Conv2d            | 36 K  \n",
      "11 | model.layer1.0.bn2          | BatchNorm2d       | 128   \n",
      "12 | model.layer1.1              | BasicBlock        | 73 K  \n",
      "13 | model.layer1.1.conv1        | Conv2d            | 36 K  \n",
      "14 | model.layer1.1.bn1          | BatchNorm2d       | 128   \n",
      "15 | model.layer1.1.relu         | ReLU              | 0     \n",
      "16 | model.layer1.1.conv2        | Conv2d            | 36 K  \n",
      "17 | model.layer1.1.bn2          | BatchNorm2d       | 128   \n",
      "18 | model.layer2                | Sequential        | 525 K \n",
      "19 | model.layer2.0              | BasicBlock        | 230 K \n",
      "20 | model.layer2.0.conv1        | Conv2d            | 73 K  \n",
      "21 | model.layer2.0.bn1          | BatchNorm2d       | 256   \n",
      "22 | model.layer2.0.relu         | ReLU              | 0     \n",
      "23 | model.layer2.0.conv2        | Conv2d            | 147 K \n",
      "24 | model.layer2.0.bn2          | BatchNorm2d       | 256   \n",
      "25 | model.layer2.0.downsample   | Sequential        | 8 K   \n",
      "26 | model.layer2.0.downsample.0 | Conv2d            | 8 K   \n",
      "27 | model.layer2.0.downsample.1 | BatchNorm2d       | 256   \n",
      "28 | model.layer2.1              | BasicBlock        | 295 K \n",
      "29 | model.layer2.1.conv1        | Conv2d            | 147 K \n",
      "30 | model.layer2.1.bn1          | BatchNorm2d       | 256   \n",
      "31 | model.layer2.1.relu         | ReLU              | 0     \n",
      "32 | model.layer2.1.conv2        | Conv2d            | 147 K \n",
      "33 | model.layer2.1.bn2          | BatchNorm2d       | 256   \n",
      "34 | model.layer3                | Sequential        | 2 M   \n",
      "35 | model.layer3.0              | BasicBlock        | 919 K \n",
      "36 | model.layer3.0.conv1        | Conv2d            | 294 K \n",
      "37 | model.layer3.0.bn1          | BatchNorm2d       | 512   \n",
      "38 | model.layer3.0.relu         | ReLU              | 0     \n",
      "39 | model.layer3.0.conv2        | Conv2d            | 589 K \n",
      "40 | model.layer3.0.bn2          | BatchNorm2d       | 512   \n",
      "41 | model.layer3.0.downsample   | Sequential        | 33 K  \n",
      "42 | model.layer3.0.downsample.0 | Conv2d            | 32 K  \n",
      "43 | model.layer3.0.downsample.1 | BatchNorm2d       | 512   \n",
      "44 | model.layer3.1              | BasicBlock        | 1 M   \n",
      "45 | model.layer3.1.conv1        | Conv2d            | 589 K \n",
      "46 | model.layer3.1.bn1          | BatchNorm2d       | 512   \n",
      "47 | model.layer3.1.relu         | ReLU              | 0     \n",
      "48 | model.layer3.1.conv2        | Conv2d            | 589 K \n",
      "49 | model.layer3.1.bn2          | BatchNorm2d       | 512   \n",
      "50 | model.layer4                | Sequential        | 8 M   \n",
      "51 | model.layer4.0              | BasicBlock        | 3 M   \n",
      "52 | model.layer4.0.conv1        | Conv2d            | 1 M   \n",
      "53 | model.layer4.0.bn1          | BatchNorm2d       | 1 K   \n",
      "54 | model.layer4.0.relu         | ReLU              | 0     \n",
      "55 | model.layer4.0.conv2        | Conv2d            | 2 M   \n",
      "56 | model.layer4.0.bn2          | BatchNorm2d       | 1 K   \n",
      "57 | model.layer4.0.downsample   | Sequential        | 132 K \n",
      "58 | model.layer4.0.downsample.0 | Conv2d            | 131 K \n",
      "59 | model.layer4.0.downsample.1 | BatchNorm2d       | 1 K   \n",
      "60 | model.layer4.1              | BasicBlock        | 4 M   \n",
      "61 | model.layer4.1.conv1        | Conv2d            | 2 M   \n",
      "62 | model.layer4.1.bn1          | BatchNorm2d       | 1 K   \n",
      "63 | model.layer4.1.relu         | ReLU              | 0     \n",
      "64 | model.layer4.1.conv2        | Conv2d            | 2 M   \n",
      "65 | model.layer4.1.bn2          | BatchNorm2d       | 1 K   \n",
      "66 | model.avgpool               | AdaptiveAvgPool2d | 0     \n",
      "67 | model.fc                    | Linear            | 513 K \n"
     ]
    },
    {
     "data": {
      "application/vnd.jupyter.widget-view+json": {
       "model_id": "8824959da5f14dd987a2757daeafebf1",
       "version_major": 2,
       "version_minor": 0
      },
      "text/plain": [
       "HBox(children=(FloatProgress(value=1.0, bar_style='info', layout=Layout(flex='2'), max=1.0), HTML(value='')), …"
      ]
     },
     "metadata": {},
     "output_type": "display_data"
    },
    {
     "name": "stderr",
     "output_type": "stream",
     "text": [
      "INFO:lightning:Detected KeyboardInterrupt, attempting graceful shutdown...\n"
     ]
    },
    {
     "name": "stdout",
     "output_type": "stream",
     "text": [
      "\n"
     ]
    },
    {
     "data": {
      "text/plain": [
       "1"
      ]
     },
     "execution_count": 12,
     "metadata": {},
     "output_type": "execute_result"
    }
   ],
   "source": [
    "mnist_model = Model()\n",
    "\n",
    "# most basic trainer, uses good defaults (1 gpu)\n",
    "trainer = pl.Trainer(gpus=1)    \n",
    "trainer.fit(mnist_model)   "
   ]
  },
  {
   "cell_type": "code",
   "execution_count": 13,
   "metadata": {},
   "outputs": [
    {
     "name": "stderr",
     "output_type": "stream",
     "text": [
      "C:\\Users\\Filip\\.conda\\envs\\torch\\lib\\site-packages\\torchvision\\transforms\\transforms.py:703: UserWarning: The use of the transforms.RandomSizedCrop transform is deprecated, please use transforms.RandomResizedCrop instead.\n",
      "  warnings.warn(\"The use of the transforms.RandomSizedCrop transform is deprecated, \" +\n",
      "C:\\Users\\Filip\\.conda\\envs\\torch\\lib\\site-packages\\pytorch_lightning\\trainer\\data_loading.py:79: UserWarning: The dataloader, test dataloader 0, does not have many workers which may be a bottleneck. Consider increasing the value of the `num_workers` argument` in the `DataLoader` init to improve performance.\n",
      "  warnings.warn(f'The dataloader, {name}, does not have many workers which may be a bottleneck.'\n"
     ]
    },
    {
     "data": {
      "application/vnd.jupyter.widget-view+json": {
       "model_id": "015fde452f494e3392f4eba360139657",
       "version_major": 2,
       "version_minor": 0
      },
      "text/plain": [
       "HBox(children=(FloatProgress(value=0.0, description='Testing', layout=Layout(flex='2'), max=10.0, style=Progre…"
      ]
     },
     "metadata": {},
     "output_type": "display_data"
    },
    {
     "name": "stdout",
     "output_type": "stream",
     "text": [
      "--------------------------------------------------------------------------------\n",
      "TEST RESULTS\n",
      "{'test_loss': tensor(3.3182, device='cuda:0')}\n",
      "--------------------------------------------------------------------------------\n",
      "\n"
     ]
    }
   ],
   "source": [
    "trainer.test()"
   ]
  },
  {
   "cell_type": "code",
   "execution_count": null,
   "metadata": {},
   "outputs": [],
   "source": []
  }
 ],
 "metadata": {
  "kernelspec": {
   "display_name": "Torch",
   "language": "python",
   "name": "torch"
  },
  "language_info": {
   "codemirror_mode": {
    "name": "ipython",
    "version": 3
   },
   "file_extension": ".py",
   "mimetype": "text/x-python",
   "name": "python",
   "nbconvert_exporter": "python",
   "pygments_lexer": "ipython3",
   "version": "3.8.1"
  }
 },
 "nbformat": 4,
 "nbformat_minor": 4
}
